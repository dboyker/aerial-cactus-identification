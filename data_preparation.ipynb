{
 "cells": [
  {
   "cell_type": "code",
   "execution_count": 2,
   "metadata": {},
   "outputs": [],
   "source": [
    "import os\n",
    "import imageio\n",
    "import pandas as pd\n",
    "import numpy as np"
   ]
  },
  {
   "cell_type": "code",
   "execution_count": 10,
   "metadata": {},
   "outputs": [],
   "source": [
    "n_train = 13000\n",
    "n_valid = 4500\n",
    "W = 32\n",
    "H = 32\n",
    "D = 3\n",
    "raw_data_directory = 'raw_data/'\n",
    "processed_data_directory = 'processed_data/'"
   ]
  },
  {
   "cell_type": "code",
   "execution_count": 7,
   "metadata": {},
   "outputs": [],
   "source": [
    "# Create dict with labels and image names\n",
    "y_df = pd.read_csv(raw_data_directory + 'train.csv')\n",
    "y_dict = dict(zip(y_df['id'], y_df['has_cactus']))"
   ]
  },
  {
   "cell_type": "code",
   "execution_count": 8,
   "metadata": {},
   "outputs": [],
   "source": [
    "# Create empty np arrays\n",
    "x_train = np.zeros(shape=(n_train, W, H, D))\n",
    "x_valid = np.zeros(shape=(n_valid, W, H, D))\n",
    "y_train = np.zeros(shape=(n_train))\n",
    "y_valid = np.zeros(shape=(n_valid))"
   ]
  },
  {
   "cell_type": "code",
   "execution_count": 9,
   "metadata": {},
   "outputs": [],
   "source": [
    "# Create x_train and y_train arrays\n",
    "for i, filename in enumerate(os.listdir(raw_data_directory + 'train/')):\n",
    "    if filename.endswith(\".jpg\"):\n",
    "        img = imageio.imread(raw_data_directory + 'train/' + filename)\n",
    "        label = y_dict[filename]\n",
    "        if i < n_train:\n",
    "            x_train[i, :] = img\n",
    "            y_train[i] = label\n",
    "        else:\n",
    "            x_valid[i - n_train, :] = img\n",
    "            y_valid[i - n_train] = label"
   ]
  },
  {
   "cell_type": "code",
   "execution_count": 12,
   "metadata": {},
   "outputs": [],
   "source": [
    "# Scale images\n",
    "x_train /= 255\n",
    "x_valid /= 255"
   ]
  },
  {
   "cell_type": "code",
   "execution_count": 13,
   "metadata": {},
   "outputs": [],
   "source": [
    "# Save np arrays\n",
    "np.save(processed_data_directory + 'x_train', x_train)\n",
    "np.save(processed_data_directory + 'y_train', y_train)\n",
    "np.save(processed_data_directory + 'x_valid', x_valid)\n",
    "np.save(processed_data_directory + 'y_valid', y_valid)"
   ]
  },
  {
   "cell_type": "code",
   "execution_count": 16,
   "metadata": {},
   "outputs": [
    {
     "name": "stdout",
     "output_type": "stream",
     "text": [
      "3401\n",
      "1099\n"
     ]
    }
   ],
   "source": [
    "# Some stats on the data\n",
    "print(len(y_valid[y_valid > 0]))\n",
    "print(len(y_valid[y_valid == 0]))"
   ]
  },
  {
   "cell_type": "code",
   "execution_count": null,
   "metadata": {},
   "outputs": [],
   "source": []
  }
 ],
 "metadata": {
  "kernelspec": {
   "display_name": "Python 3",
   "language": "python",
   "name": "python3"
  },
  "language_info": {
   "codemirror_mode": {
    "name": "ipython",
    "version": 3
   },
   "file_extension": ".py",
   "mimetype": "text/x-python",
   "name": "python",
   "nbconvert_exporter": "python",
   "pygments_lexer": "ipython3",
   "version": "3.7.3"
  }
 },
 "nbformat": 4,
 "nbformat_minor": 4
}
