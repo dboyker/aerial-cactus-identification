{
 "cells": [
  {
   "cell_type": "code",
   "execution_count": 21,
   "metadata": {},
   "outputs": [],
   "source": [
    "import numpy as np\n",
    "from keras.models import Sequential\n",
    "from keras.layers import Dense, Flatten, Activation"
   ]
  },
  {
   "cell_type": "code",
   "execution_count": 15,
   "metadata": {},
   "outputs": [],
   "source": [
    "x_train = np.load('x_train.npy') / 255\n",
    "x_valid = np.load('x_valid.npy') / 255\n",
    "y_train = np.load('y_train.npy') / 255\n",
    "y_valid = np.load('y_valid.npy') / 255"
   ]
  },
  {
   "cell_type": "code",
   "execution_count": 51,
   "metadata": {},
   "outputs": [],
   "source": [
    "model = Sequential()\n",
    "model.add(Flatten(input_shape=(32, 32, 3)))\n",
    "model.add(Dense(1, input_dim=(3072)))\n",
    "model.add(Activation('sigmoid'))"
   ]
  },
  {
   "cell_type": "code",
   "execution_count": 52,
   "metadata": {},
   "outputs": [
    {
     "name": "stdout",
     "output_type": "stream",
     "text": [
      "_________________________________________________________________\n",
      "Layer (type)                 Output Shape              Param #   \n",
      "=================================================================\n",
      "flatten_7 (Flatten)          (None, 3072)              0         \n",
      "_________________________________________________________________\n",
      "dense_7 (Dense)              (None, 1)                 3073      \n",
      "_________________________________________________________________\n",
      "activation_4 (Activation)    (None, 1)                 0         \n",
      "=================================================================\n",
      "Total params: 3,073\n",
      "Trainable params: 3,073\n",
      "Non-trainable params: 0\n",
      "_________________________________________________________________\n"
     ]
    }
   ],
   "source": [
    "model.summary()\n",
    "model.compile(optimizer='adam', loss='binary_crossentropy', metrics=['accuracy'])"
   ]
  },
  {
   "cell_type": "code",
   "execution_count": 53,
   "metadata": {},
   "outputs": [
    {
     "name": "stdout",
     "output_type": "stream",
     "text": [
      "Epoch 1/10\n",
      "13000/13000 [==============================] - 1s 44us/step - loss: 0.0279 - acc: 0.2505\n",
      "Epoch 2/10\n",
      "13000/13000 [==============================] - 0s 26us/step - loss: 0.0223 - acc: 0.2512\n",
      "Epoch 3/10\n",
      "13000/13000 [==============================] - 0s 26us/step - loss: 0.0220 - acc: 0.2512\n",
      "Epoch 4/10\n",
      "13000/13000 [==============================] - 0s 25us/step - loss: 0.0217 - acc: 0.2512\n",
      "Epoch 5/10\n",
      "13000/13000 [==============================] - 0s 25us/step - loss: 0.0215 - acc: 0.2512\n",
      "Epoch 6/10\n",
      "13000/13000 [==============================] - 0s 26us/step - loss: 0.0213 - acc: 0.2512\n",
      "Epoch 7/10\n",
      "13000/13000 [==============================] - 0s 26us/step - loss: 0.0212 - acc: 0.2512\n",
      "Epoch 8/10\n",
      "13000/13000 [==============================] - 0s 26us/step - loss: 0.0211 - acc: 0.2512\n",
      "Epoch 9/10\n",
      "13000/13000 [==============================] - 0s 27us/step - loss: 0.0211 - acc: 0.2512\n",
      "Epoch 10/10\n",
      "13000/13000 [==============================] - 0s 26us/step - loss: 0.0210 - acc: 0.2512\n"
     ]
    },
    {
     "data": {
      "text/plain": [
       "<keras.callbacks.History at 0x15992fda0>"
      ]
     },
     "execution_count": 53,
     "metadata": {},
     "output_type": "execute_result"
    }
   ],
   "source": [
    "model.fit(x_train, y_train, epochs=10)"
   ]
  },
  {
   "cell_type": "code",
   "execution_count": 54,
   "metadata": {},
   "outputs": [
    {
     "data": {
      "text/plain": [
       "array([[0.00946975],\n",
       "       [0.00219426],\n",
       "       [0.00038466],\n",
       "       ...,\n",
       "       [0.00214896],\n",
       "       [0.00047508],\n",
       "       [0.00179932]], dtype=float32)"
      ]
     },
     "execution_count": 54,
     "metadata": {},
     "output_type": "execute_result"
    }
   ],
   "source": [
    "model.predict(x_train)"
   ]
  }
 ],
 "metadata": {
  "kernelspec": {
   "display_name": "Python 3",
   "language": "python",
   "name": "python3"
  },
  "language_info": {
   "codemirror_mode": {
    "name": "ipython",
    "version": 3
   },
   "file_extension": ".py",
   "mimetype": "text/x-python",
   "name": "python",
   "nbconvert_exporter": "python",
   "pygments_lexer": "ipython3",
   "version": "3.6.3"
  }
 },
 "nbformat": 4,
 "nbformat_minor": 2
}
