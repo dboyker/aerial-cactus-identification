{
 "cells": [
  {
   "cell_type": "code",
   "execution_count": 75,
   "metadata": {},
   "outputs": [],
   "source": [
    "import pandas as pd\n",
    "import numpy as np\n",
    "from keras.models import Sequential\n",
    "from keras.layers import Dense, Conv2D, Dropout, Flatten, Activation"
   ]
  },
  {
   "cell_type": "code",
   "execution_count": 6,
   "metadata": {},
   "outputs": [],
   "source": [
    "data_directory = 'processed_data/'"
   ]
  },
  {
   "cell_type": "code",
   "execution_count": 7,
   "metadata": {},
   "outputs": [],
   "source": [
    "x_train = np.load(data_directory + 'x_train.npy')\n",
    "x_valid = np.load(data_directory + 'x_valid.npy')\n",
    "y_train = np.load(data_directory + 'y_train.npy')\n",
    "y_valid = np.load(data_directory + 'y_valid.npy')"
   ]
  },
  {
   "cell_type": "code",
   "execution_count": 79,
   "metadata": {},
   "outputs": [],
   "source": [
    "model = Sequential()\n",
    "model.add(Conv2D(filters=16, kernel_size=(3,3), input_shape=(32, 32, 3)))\n",
    "model.add(Conv2D(filters=8, kernel_size=(3,3)))\n",
    "model.add(Flatten())\n",
    "model.add(Dropout(0.5))\n",
    "model.add(Dense(1))\n",
    "model.add(Activation('sigmoid'))"
   ]
  },
  {
   "cell_type": "code",
   "execution_count": 80,
   "metadata": {},
   "outputs": [
    {
     "name": "stdout",
     "output_type": "stream",
     "text": [
      "Model: \"sequential_12\"\n",
      "_________________________________________________________________\n",
      "Layer (type)                 Output Shape              Param #   \n",
      "=================================================================\n",
      "conv2d_13 (Conv2D)           (None, 30, 30, 16)        448       \n",
      "_________________________________________________________________\n",
      "conv2d_14 (Conv2D)           (None, 28, 28, 8)         1160      \n",
      "_________________________________________________________________\n",
      "flatten_6 (Flatten)          (None, 6272)              0         \n",
      "_________________________________________________________________\n",
      "dropout_2 (Dropout)          (None, 6272)              0         \n",
      "_________________________________________________________________\n",
      "dense_7 (Dense)              (None, 1)                 6273      \n",
      "_________________________________________________________________\n",
      "activation_9 (Activation)    (None, 1)                 0         \n",
      "=================================================================\n",
      "Total params: 7,881\n",
      "Trainable params: 7,881\n",
      "Non-trainable params: 0\n",
      "_________________________________________________________________\n"
     ]
    }
   ],
   "source": [
    "model.summary()\n",
    "model.compile(optimizer='adam', loss='binary_crossentropy', metrics=['accuracy'])"
   ]
  },
  {
   "cell_type": "code",
   "execution_count": 81,
   "metadata": {},
   "outputs": [
    {
     "name": "stdout",
     "output_type": "stream",
     "text": [
      "Train on 13000 samples, validate on 4500 samples\n",
      "Epoch 1/10\n",
      "13000/13000 [==============================] - 7s 518us/step - loss: 0.3952 - accuracy: 0.8215 - val_loss: 0.2701 - val_accuracy: 0.8833\n",
      "Epoch 2/10\n",
      "13000/13000 [==============================] - 6s 485us/step - loss: 0.2657 - accuracy: 0.8892 - val_loss: 0.2356 - val_accuracy: 0.9102\n",
      "Epoch 3/10\n",
      "13000/13000 [==============================] - 6s 481us/step - loss: 0.2464 - accuracy: 0.8978 - val_loss: 0.2387 - val_accuracy: 0.9062\n",
      "Epoch 4/10\n",
      "13000/13000 [==============================] - 7s 513us/step - loss: 0.2369 - accuracy: 0.9059 - val_loss: 0.2570 - val_accuracy: 0.8867\n",
      "Epoch 5/10\n",
      "13000/13000 [==============================] - 6s 479us/step - loss: 0.2353 - accuracy: 0.9058 - val_loss: 0.2383 - val_accuracy: 0.9116\n",
      "Epoch 6/10\n",
      "13000/13000 [==============================] - 6s 475us/step - loss: 0.2303 - accuracy: 0.9074 - val_loss: 0.2705 - val_accuracy: 0.8947\n",
      "Epoch 7/10\n",
      "13000/13000 [==============================] - 6s 472us/step - loss: 0.2300 - accuracy: 0.9065 - val_loss: 0.2518 - val_accuracy: 0.9084\n",
      "Epoch 8/10\n",
      "13000/13000 [==============================] - 6s 478us/step - loss: 0.2266 - accuracy: 0.9084 - val_loss: 0.2400 - val_accuracy: 0.9113\n",
      "Epoch 9/10\n",
      "13000/13000 [==============================] - 6s 494us/step - loss: 0.2231 - accuracy: 0.9109 - val_loss: 0.2533 - val_accuracy: 0.9036\n",
      "Epoch 10/10\n",
      "13000/13000 [==============================] - 6s 474us/step - loss: 0.2293 - accuracy: 0.9089 - val_loss: 0.2509 - val_accuracy: 0.9031\n"
     ]
    },
    {
     "data": {
      "text/plain": [
       "<keras.callbacks.callbacks.History at 0x1643c4e10>"
      ]
     },
     "execution_count": 81,
     "metadata": {},
     "output_type": "execute_result"
    }
   ],
   "source": [
    "model.fit(x_train, y_train, epochs=10, validation_data=(x_valid, y_valid))"
   ]
  },
  {
   "cell_type": "code",
   "execution_count": 82,
   "metadata": {},
   "outputs": [],
   "source": [
    "y_valid_pred = model.predict(x_valid).reshape(1, -1)[0]\n",
    "y_valid_pred = np.where(y_valid_pred >= 0.5, 1, 0)"
   ]
  },
  {
   "cell_type": "code",
   "execution_count": 83,
   "metadata": {},
   "outputs": [
    {
     "data": {
      "text/html": [
       "<div>\n",
       "<style scoped>\n",
       "    .dataframe tbody tr th:only-of-type {\n",
       "        vertical-align: middle;\n",
       "    }\n",
       "\n",
       "    .dataframe tbody tr th {\n",
       "        vertical-align: top;\n",
       "    }\n",
       "\n",
       "    .dataframe thead th {\n",
       "        text-align: right;\n",
       "    }\n",
       "</style>\n",
       "<table border=\"1\" class=\"dataframe\">\n",
       "  <thead>\n",
       "    <tr style=\"text-align: right;\">\n",
       "      <th>Predicted</th>\n",
       "      <th>0</th>\n",
       "      <th>1</th>\n",
       "      <th>All</th>\n",
       "    </tr>\n",
       "    <tr>\n",
       "      <th>Actual</th>\n",
       "      <th></th>\n",
       "      <th></th>\n",
       "      <th></th>\n",
       "    </tr>\n",
       "  </thead>\n",
       "  <tbody>\n",
       "    <tr>\n",
       "      <td>0.0</td>\n",
       "      <td>968</td>\n",
       "      <td>131</td>\n",
       "      <td>1099</td>\n",
       "    </tr>\n",
       "    <tr>\n",
       "      <td>1.0</td>\n",
       "      <td>305</td>\n",
       "      <td>3096</td>\n",
       "      <td>3401</td>\n",
       "    </tr>\n",
       "    <tr>\n",
       "      <td>All</td>\n",
       "      <td>1273</td>\n",
       "      <td>3227</td>\n",
       "      <td>4500</td>\n",
       "    </tr>\n",
       "  </tbody>\n",
       "</table>\n",
       "</div>"
      ],
      "text/plain": [
       "Predicted     0     1   All\n",
       "Actual                     \n",
       "0.0         968   131  1099\n",
       "1.0         305  3096  3401\n",
       "All        1273  3227  4500"
      ]
     },
     "execution_count": 83,
     "metadata": {},
     "output_type": "execute_result"
    }
   ],
   "source": [
    "# Results for the validation set\n",
    "confusion_matrix = pd.crosstab(y_valid, y_valid_pred, rownames=['Actual'], colnames=['Predicted'], margins=True)\n",
    "confusion_matrix"
   ]
  },
  {
   "cell_type": "code",
   "execution_count": 84,
   "metadata": {},
   "outputs": [
    {
     "name": "stdout",
     "output_type": "stream",
     "text": [
      "Precision: 0.959405\n",
      "Recall: 0.910320\n"
     ]
    }
   ],
   "source": [
    "tn = confusion_matrix[0][0]\n",
    "fn = confusion_matrix[0][1]\n",
    "tp = confusion_matrix[1][1]\n",
    "fp = confusion_matrix[1][0]\n",
    "print('Precision: %f' % (tp / (tp + fp)))\n",
    "print('Recall: %f' % (tp / (tp + fn)))"
   ]
  }
 ],
 "metadata": {
  "kernelspec": {
   "display_name": "Python 3",
   "language": "python",
   "name": "python3"
  },
  "language_info": {
   "codemirror_mode": {
    "name": "ipython",
    "version": 3
   },
   "file_extension": ".py",
   "mimetype": "text/x-python",
   "name": "python",
   "nbconvert_exporter": "python",
   "pygments_lexer": "ipython3",
   "version": "3.7.3"
  }
 },
 "nbformat": 4,
 "nbformat_minor": 4
}
